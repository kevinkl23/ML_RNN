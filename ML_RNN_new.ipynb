{
  "nbformat": 4,
  "nbformat_minor": 0,
  "metadata": {
    "colab": {
      "provenance": []
    },
    "kernelspec": {
      "name": "python3",
      "display_name": "Python 3"
    },
    "language_info": {
      "name": "python"
    }
  },
  "cells": [
    {
      "cell_type": "markdown",
      "source": [
        "### Link to dataset : https://www.kaggle.com/datasets/vimpigro/handwritten-mongolian-cyrillic-characters-database"
      ],
      "metadata": {
        "id": "G71nFDojJGAu"
      }
    },
    {
      "cell_type": "code",
      "source": [
        "from google.colab import drive\n",
        "drive.mount('/content/drive')"
      ],
      "metadata": {
        "id": "ZMiQ4D266FpX",
        "colab": {
          "base_uri": "https://localhost:8080/"
        },
        "outputId": "e6c8bc8a-cc2c-4b7c-dc2a-1af52aae828c"
      },
      "execution_count": null,
      "outputs": [
        {
          "output_type": "stream",
          "name": "stdout",
          "text": [
            "Drive already mounted at /content/drive; to attempt to forcibly remount, call drive.mount(\"/content/drive\", force_remount=True).\n"
          ]
        }
      ]
    },
    {
      "cell_type": "markdown",
      "source": [
        "### If not using Google Drive, enter directory to dataset here"
      ],
      "metadata": {
        "id": "wS3JOeDUZd1H"
      }
    },
    {
      "cell_type": "code",
      "source": [
        "import pandas as pd\n",
        "from sklearn.model_selection import train_test_split\n",
        "import tensorflow as tf\n",
        "from tensorflow.keras import layers, models, metrics\n",
        "from tensorflow.keras.utils import to_categorical\n",
        "from tensorflow.keras.models import Sequential\n",
        "from tensorflow.keras.layers import Dense, SimpleRNN, Reshape\n",
        "from sklearn.metrics import precision_score, recall_score\n",
        "import numpy as np\n",
        "import matplotlib.pyplot as plt\n",
        "\n",
        "df = pd.read_csv('/content/drive/My Drive/HMCC letters merged.csv', delimiter=',', header = None)"
      ],
      "metadata": {
        "id": "KD2rC0lKC677"
      },
      "execution_count": null,
      "outputs": []
    },
    {
      "cell_type": "code",
      "source": [
        "df = df.to_numpy()\n",
        "\n",
        "x,y = df[:,1:], df[:,0]\n",
        "\n",
        "label_class = np.unique(y)\n",
        "\n",
        "x = x.reshape((-1,28,28,1))/x.max()\n",
        "\n",
        "my_callbacks = [\n",
        "    tf.keras.callbacks.EarlyStopping(patience=2),\n",
        "    tf.keras.callbacks.ModelCheckpoint(filepath='model.{epoch:02d}-{val_loss:.2f}.h5'),\n",
        "    tf.keras.callbacks.TensorBoard(log_dir='./logs'),\n",
        "]"
      ],
      "metadata": {
        "id": "GLTYrNtCC6Yf"
      },
      "execution_count": null,
      "outputs": []
    },
    {
      "cell_type": "code",
      "source": [
        "train_Images, test_Images, train_Labels, test_Labels = train_test_split(x, y, test_size=0.3, random_state=29)\n",
        "test_Images, validation_Images, test_Labels, validation_Labels = train_test_split(test_Images, test_Labels, test_size=0.5, random_state=56)\n",
        "\n",
        "train_Images = train_Images.reshape((-1, 28, 28))\n",
        "test_Images = test_Images.reshape((-1, 28, 28))\n",
        "validation_Images = validation_Images.reshape((-1, 28, 28))\n",
        "\n",
        "model = models.Sequential()\n",
        "\n",
        "model.add(layers.SimpleRNN(64, activation='tanh', input_shape=(28, 28)))\n",
        "model.add(layers.Dense(64, activation='relu'))\n",
        "model.add(layers.Dense(len(label_class), activation='softmax'))\n",
        "\n",
        "model.compile(optimizer='adam',loss=tf.keras.losses.SparseCategoricalCrossentropy(from_logits=False),metrics=['accuracy'])\n",
        "\n",
        "history = model.fit(train_Images, train_Labels, epochs=15, validation_data=(validation_Images, validation_Labels),callbacks = my_callbacks)"
      ],
      "metadata": {
        "id": "qDQtCXiBG0OK",
        "colab": {
          "base_uri": "https://localhost:8080/"
        },
        "outputId": "88996bbc-951f-41ac-df6f-a3c9b7918ebb"
      },
      "execution_count": null,
      "outputs": [
        {
          "output_type": "stream",
          "name": "stdout",
          "text": [
            "Epoch 1/15\n",
            "4020/4020 [==============================] - 36s 9ms/step - loss: 2.1551 - accuracy: 0.3713 - val_loss: 1.7369 - val_accuracy: 0.4812\n",
            "Epoch 2/15\n",
            "4020/4020 [==============================] - 32s 8ms/step - loss: 1.5836 - accuracy: 0.5290 - val_loss: 1.4250 - val_accuracy: 0.5713\n",
            "Epoch 3/15\n",
            "4020/4020 [==============================] - 33s 8ms/step - loss: 1.3909 - accuracy: 0.5837 - val_loss: 1.3313 - val_accuracy: 0.6026\n",
            "Epoch 4/15\n",
            "4020/4020 [==============================] - 35s 9ms/step - loss: 1.2814 - accuracy: 0.6178 - val_loss: 1.1956 - val_accuracy: 0.6433\n",
            "Epoch 5/15\n",
            "4020/4020 [==============================] - 33s 8ms/step - loss: 1.2035 - accuracy: 0.6397 - val_loss: 1.1428 - val_accuracy: 0.6578\n",
            "Epoch 6/15\n",
            "4020/4020 [==============================] - 35s 9ms/step - loss: 1.1537 - accuracy: 0.6555 - val_loss: 1.2379 - val_accuracy: 0.6345\n",
            "Epoch 7/15\n",
            "4020/4020 [==============================] - 32s 8ms/step - loss: 1.1137 - accuracy: 0.6678 - val_loss: 1.1853 - val_accuracy: 0.6466\n"
          ]
        }
      ]
    },
    {
      "cell_type": "code",
      "source": [
        "model.summary()"
      ],
      "metadata": {
        "colab": {
          "base_uri": "https://localhost:8080/"
        },
        "id": "vZ8CfEraJxIy",
        "outputId": "402fd5ac-f8c7-4c76-ac22-b35bc4197c46"
      },
      "execution_count": null,
      "outputs": [
        {
          "output_type": "stream",
          "name": "stdout",
          "text": [
            "Model: \"sequential_5\"\n",
            "_________________________________________________________________\n",
            " Layer (type)                Output Shape              Param #   \n",
            "=================================================================\n",
            " simple_rnn_5 (SimpleRNN)    (None, 64)                5952      \n",
            "                                                                 \n",
            " dense_10 (Dense)            (None, 64)                4160      \n",
            "                                                                 \n",
            " dense_11 (Dense)            (None, 35)                2275      \n",
            "                                                                 \n",
            "=================================================================\n",
            "Total params: 12,387\n",
            "Trainable params: 12,387\n",
            "Non-trainable params: 0\n",
            "_________________________________________________________________\n"
          ]
        }
      ]
    },
    {
      "cell_type": "code",
      "source": [
        "test_loss, test_acc = model.evaluate(test_Images, test_Labels, verbose=2)\n",
        "\n",
        "print('\\nTest accuracy:', test_acc * 100 , \"%\")\n",
        "\n",
        "y_pred = model.predict(test_Images)\n",
        "y_pred_classes = np.argmax(y_pred, axis=1)\n",
        "\n",
        "precision = precision_score(test_Labels, y_pred_classes, average='macro')\n",
        "recall = recall_score(test_Labels, y_pred_classes, average='macro')\n",
        "\n",
        "print(\"Precision: \", precision)\n",
        "print(\"Recall: \", recall)\n",
        "\n",
        "f1_score = 2 * (precision * recall) / (precision + recall)\n",
        "print(\"F1-Score :\", f1_score)"
      ],
      "metadata": {
        "colab": {
          "base_uri": "https://localhost:8080/"
        },
        "id": "O1tWVovMtyMo",
        "outputId": "ed73df73-ecbc-49de-a4e6-949300cb9991"
      },
      "execution_count": null,
      "outputs": [
        {
          "output_type": "stream",
          "name": "stdout",
          "text": [
            "862/862 - 2s - loss: 1.1510 - accuracy: 0.6603 - 2s/epoch - 3ms/step\n",
            "\n",
            "Test accuracy: 66.03294610977173 %\n",
            "862/862 [==============================] - 3s 3ms/step\n",
            "Precision:  0.6711764713508332\n",
            "Recall:  0.6608981750173812\n",
            "F1-Score : 0.6659976694845918\n"
          ]
        }
      ]
    },
    {
      "cell_type": "code",
      "source": [
        "plt.plot(history.history['accuracy'], label = 'accuracy')\n",
        "plt.plot(history.history['val_accuracy'], label = 'val_accuracy')\n",
        "plt.xlabel('Epoch')\n",
        "plt.ylabel('Accuracy')\n",
        "plt.ylim([0.3, 1])\n",
        "plt.legend(loc='lower right')"
      ],
      "metadata": {
        "colab": {
          "base_uri": "https://localhost:8080/",
          "height": 472
        },
        "id": "0HJ7R3yFnZ5Y",
        "outputId": "d092185c-8a51-4a5c-b7fb-fffcdafad826"
      },
      "execution_count": null,
      "outputs": [
        {
          "output_type": "execute_result",
          "data": {
            "text/plain": [
              "<matplotlib.legend.Legend at 0x7fa53ddf5450>"
            ]
          },
          "metadata": {},
          "execution_count": 12
        },
        {
          "output_type": "display_data",
          "data": {
            "text/plain": [
              "<Figure size 640x480 with 1 Axes>"
            ],
            "image/png": "[encoded data removed]"
          },
          "metadata": {}
        }
      ]
    },
    {
      "cell_type": "code",
      "source": [
        "i = np.random.randint(0,len(test_Labels))\n",
        "class_names = [*'АБВГДЕЁЖЗИЙКЛМНОӨПРСТУҮФХЦЧШЩЪЫЬЭЮЯ']\n",
        "# class_names = np.unique(y)\n",
        "plt.imshow(test_Images[30])\n",
        "# plt.title(class_names[test_Labels[i]])\n",
        "plt.show()\n",
        "def predict(index):\n",
        "  prediction = model.predict(test_Images[index:index+1])[0]\n",
        "  plt.bar(class_names,prediction,width=1)\n",
        "  plt.title(class_names[test_Labels[30]])\n",
        "  plt.show()\n",
        "predict(30)"
      ],
      "metadata": {
        "id": "VV9PWZMGvdDi",
        "outputId": "cc968635-cad4-45cb-c6b6-af0cbdc00933",
        "colab": {
          "base_uri": "https://localhost:8080/",
          "height": 882
        }
      },
      "execution_count": null,
      "outputs": [
        {
          "output_type": "display_data",
          "data": {
            "text/plain": [
              "<Figure size 640x480 with 1 Axes>"
            ],
            "image/png": "[encoded data removed]"
          },
          "metadata": {}
        },
        {
          "output_type": "stream",
          "name": "stdout",
          "text": [
            "1/1 [==============================] - 0s 24ms/step\n"
          ]
        },
        {
          "output_type": "display_data",
          "data": {
            "text/plain": [
              "<Figure size 640x480 with 1 Axes>"
            ],
            "image/png": "[encoded data removed]"
          },
          "metadata": {}
        }
      ]
    },
    {
      "cell_type": "code",
      "source": [
        "x1=test_Images[30]\n",
        "x1"
      ],
      "metadata": {
        "id": "0YjUhM4g30n8"
      },
      "execution_count": null,
      "outputs": []
    },
    {
      "cell_type": "code",
      "source": [
        "test_Labels[30]"
      ],
      "metadata": {
        "id": "nP0s2MXs35Xf"
      },
      "execution_count": null,
      "outputs": []
    },
    {
      "cell_type": "code",
      "source": [
        "plt.imshow(x1)"
      ],
      "metadata": {
        "id": "OAsUaBLE5Fg6"
      },
      "execution_count": null,
      "outputs": []
    }
  ]
}